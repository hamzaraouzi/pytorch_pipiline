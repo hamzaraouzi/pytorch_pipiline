{
 "cells": [
  {
   "cell_type": "code",
   "execution_count": 1,
   "metadata": {},
   "outputs": [],
   "source": [
    "from torchvision import datasets, transforms\n",
    "import torch\n",
    "\n",
    "transform = transforms.Compose([\n",
    "                            transforms.Resize((224, 224)),\n",
    "                            transforms.ToTensor(),\n",
    "                            transforms.Normalize((0.5,), (0.5,)),\n",
    "                            transforms.Lambda(lambda x: x.repeat(3, 1, 1))\n",
    "                              ])"
   ]
  },
  {
   "cell_type": "code",
   "execution_count": 2,
   "metadata": {},
   "outputs": [],
   "source": [
    "trainset = datasets.MNIST('../', download=True, train=True, transform=transform)\n",
    "valset = datasets.MNIST('../', download=True, train=False, transform=transform)\n",
    "train_loader = torch.utils.data.DataLoader(trainset, batch_size=64, shuffle=True)\n",
    "val_loader = torch.utils.data.DataLoader(valset, batch_size=64, shuffle=True)\n",
    "train_loader = val_loader "
   ]
  },
  {
   "cell_type": "code",
   "execution_count": 3,
   "metadata": {},
   "outputs": [],
   "source": [
    "from Trainer.DefaultClassificationTrainer import DefaultClassificationTrainer\n",
    "\n",
    "my_trainer = DefaultClassificationTrainer('test_trainer.yaml')\n",
    "            "
   ]
  },
  {
   "cell_type": "code",
   "execution_count": 4,
   "metadata": {},
   "outputs": [],
   "source": [
    "from ModelsPreparers.ClassificationModel import ClassificationModel\n",
    "\n",
    "my_classifier = ClassificationModel('test_classificationModel.yaml')"
   ]
  },
  {
   "cell_type": "code",
   "execution_count": 5,
   "metadata": {},
   "outputs": [],
   "source": [
    "model = my_classifier()"
   ]
  },
  {
   "cell_type": "code",
   "execution_count": 6,
   "metadata": {},
   "outputs": [
    {
     "name": "stderr",
     "output_type": "stream",
     "text": [
      "  2%|▏         | 3/157 [01:02<53:07, 20.70s/it]"
     ]
    }
   ],
   "source": [
    "my_trainer(model, train_loader=train_loader, val_loader=val_loader)"
   ]
  }
 ],
 "metadata": {
  "interpreter": {
   "hash": "307c53b24b29167a38247f122f14618edc066d51f1879793f11c0c5c7568b40c"
  },
  "kernelspec": {
   "display_name": "Python 3.9.7 ('base')",
   "language": "python",
   "name": "python3"
  },
  "language_info": {
   "codemirror_mode": {
    "name": "ipython",
    "version": 3
   },
   "file_extension": ".py",
   "mimetype": "text/x-python",
   "name": "python",
   "nbconvert_exporter": "python",
   "pygments_lexer": "ipython3",
   "version": "3.9.7"
  },
  "orig_nbformat": 4
 },
 "nbformat": 4,
 "nbformat_minor": 2
}
