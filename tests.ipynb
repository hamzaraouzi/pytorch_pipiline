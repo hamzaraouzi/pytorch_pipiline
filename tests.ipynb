{
 "cells": [
  {
   "cell_type": "code",
   "execution_count": 29,
   "metadata": {},
   "outputs": [
    {
     "name": "stdout",
     "output_type": "stream",
     "text": [
      "[{'task': 'classification'}, {'num_epochs': 10}, {'device': 'cpu'}, {'optimizer': [{'name': 'Adam'}, {'lr': 0.01}]}, {'earlystoping_after': 3}, {'kfold': False}]\n"
     ]
    }
   ],
   "source": [
    "import yaml\n",
    "\n",
    "with open('test_trainer.yaml') as file:\n",
    "    conf_values = yaml.load(file, Loader=yaml.FullLoader)\n",
    "\n",
    "print(conf_values['training'])\n",
    "params2values = {}\n",
    "optimizer_parametres = {}\n",
    "\n",
    "for d in conf_values['training']:\n",
    "            for k, v in zip(d.keys(), d.values()):\n",
    "                if k!='optimizer':\n",
    "                    params2values[k] = v\n",
    "                \n",
    "                else:\n",
    "                    for dd in v:\n",
    "                        for kk, vv in zip(dd.keys(), dd.values()):\n",
    "                            if kk!='optimizer':\n",
    "                                optimizer_parametres[kk] = vv\n",
    "            "
   ]
  },
  {
   "cell_type": "code",
   "execution_count": 30,
   "metadata": {},
   "outputs": [
    {
     "data": {
      "text/plain": [
       "{'name': 'Adam', 'lr': 0.01}"
      ]
     },
     "execution_count": 30,
     "metadata": {},
     "output_type": "execute_result"
    }
   ],
   "source": [
    "optimizer_parametres"
   ]
  },
  {
   "cell_type": "code",
   "execution_count": 27,
   "metadata": {},
   "outputs": [
    {
     "data": {
      "text/plain": [
       "{'task': 'classification',\n",
       " 'num_epochs': 10,\n",
       " 'device': 'cpu',\n",
       " 'name': 'Adam',\n",
       " 'lr': 0.01,\n",
       " 'earlystoping_after': 3,\n",
       " 'kfold': False}"
      ]
     },
     "execution_count": 27,
     "metadata": {},
     "output_type": "execute_result"
    }
   ],
   "source": [
    "params2values"
   ]
  }
 ],
 "metadata": {
  "interpreter": {
   "hash": "307c53b24b29167a38247f122f14618edc066d51f1879793f11c0c5c7568b40c"
  },
  "kernelspec": {
   "display_name": "Python 3.9.7 ('base')",
   "language": "python",
   "name": "python3"
  },
  "language_info": {
   "codemirror_mode": {
    "name": "ipython",
    "version": 3
   },
   "file_extension": ".py",
   "mimetype": "text/x-python",
   "name": "python",
   "nbconvert_exporter": "python",
   "pygments_lexer": "ipython3",
   "version": "3.9.7"
  },
  "orig_nbformat": 4
 },
 "nbformat": 4,
 "nbformat_minor": 2
}
